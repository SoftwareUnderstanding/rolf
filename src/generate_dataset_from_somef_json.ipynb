{
 "cells": [
  {
   "cell_type": "code",
   "execution_count": 1,
   "id": "413e755d",
   "metadata": {},
   "outputs": [],
   "source": [
    "import csv\n",
    "import json\n",
    "import os\n",
    "import pandas as pd"
   ]
  },
  {
   "cell_type": "code",
   "execution_count": 2,
   "id": "12c1dddd",
   "metadata": {},
   "outputs": [],
   "source": [
    "somef_dataset_dir = 'dataset/somef_dataset/try2/data1'\n",
    "somef_data ={}\n",
    "for file in os.listdir(somef_dataset_dir):\n",
    "    file_data = json.load(open(os.path.join(somef_dataset_dir, file)))\n",
    "    if not file_data:\n",
    "        continue\n",
    "    repo = file_data['codeRepository']['excerpt']\n",
    "    text = '\"'\n",
    "    if 'description' in file_data:\n",
    "        for i in file_data['description']:\n",
    "            if i['technique'] == \"Header extraction\":\n",
    "                text += i['excerpt'].replace('\\n', ' ').replace(',', ' ')\n",
    "                text += ' '\n",
    "    \"\"\"if 'installation' in file_data:\n",
    "        for i in file_data['installation']:\n",
    "            text += i['excerpt'].replace('\\n', ' ').replace(',', ' ')\n",
    "            text += ' '\n",
    "    if 'usage' in file_data:\n",
    "        for i in file_data['usage']:\n",
    "            if i['technique'] == \"Header extraction\":\n",
    "                text += i['excerpt'].replace('\\n', ' ').replace(',', ' ')\n",
    "                text += ' '\"\"\"\n",
    "    text += '\"'\n",
    "\n",
    "    somef_data[repo] = text\n"
   ]
  },
  {
   "cell_type": "code",
   "execution_count": 3,
   "id": "1feb74d9",
   "metadata": {},
   "outputs": [],
   "source": [
    "reader = csv.DictReader(open('dataset/train_all.csv'), delimiter=';')\n",
    "keys = ['Text', 'Label', 'Repo']\n",
    "data = { key: [] for key in keys}\n",
    "for row in reader:\n",
    "    if row['Repo'] in somef_data:\n",
    "        data['Text'].append(somef_data[row['Repo']])\n",
    "        data['Label'].append(row['Label'])\n",
    "        data['Repo'].append(row['Repo'])\n",
    "            \n",
    "    "
   ]
  },
  {
   "cell_type": "code",
   "execution_count": 4,
   "id": "bc05ae5d",
   "metadata": {},
   "outputs": [],
   "source": [
    "df = pd.DataFrame(data)\n",
    "df.drop_duplicates(inplace=True)\n",
    "df.to_csv(\"dataset/somef_data1.csv\", sep=';', index=False)"
   ]
  }
 ],
 "metadata": {
  "interpreter": {
   "hash": "7d5a85906b5019a95b914e054e1849c800da3b42d1a581ee9f65c61f2a58cefa"
  },
  "kernelspec": {
   "display_name": "myenv",
   "language": "python",
   "name": "python3"
  },
  "language_info": {
   "codemirror_mode": {
    "name": "ipython",
    "version": 3
   },
   "file_extension": ".py",
   "mimetype": "text/x-python",
   "name": "python",
   "nbconvert_exporter": "python",
   "pygments_lexer": "ipython3",
   "version": "3.9.7"
  }
 },
 "nbformat": 4,
 "nbformat_minor": 5
}
