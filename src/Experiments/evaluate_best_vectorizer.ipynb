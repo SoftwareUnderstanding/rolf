{
 "cells": [
  {
   "cell_type": "code",
   "execution_count": 2,
   "metadata": {},
   "outputs": [],
   "source": [
    "import pandas as pd"
   ]
  },
  {
   "cell_type": "code",
   "execution_count": 30,
   "metadata": {},
   "outputs": [
    {
     "name": "stdout",
     "output_type": "stream",
     "text": [
      "mean_fit_time\n",
      "mean_score_time\n",
      "mean_test_accuracy\n",
      "mean_train_accuracy\n",
      "mean_test_f1_macro\n",
      "mean_train_f1_macro\n",
      "mean_test_f1_weighted\n",
      "mean_train_f1_weighted\n",
      "mean_test_recall_macro\n",
      "mean_train_recall_macro\n",
      "mean_test_recall_weighted\n",
      "mean_train_recall_weighted\n",
      "mean_test_precision_macro\n",
      "mean_train_precision_macro\n",
      "mean_test_precision_weighted\n",
      "mean_train_precision_weighted\n"
     ]
    }
   ],
   "source": [
    "df = pd.read_csv('../../data/search/vectorizer_search_sequential.csv', sep=';')\n",
    "for i in df.columns:\n",
    "\tif 'mean' in i:\n",
    "\t\tprint(i)"
   ]
  },
  {
   "cell_type": "code",
   "execution_count": 22,
   "metadata": {},
   "outputs": [],
   "source": [
    "df1 = df[['params', 'mean_fit_time', 'mean_test_accuracy',\n",
    "\t\t 'mean_test_precision_macro', 'mean_test_precision_weighted',\n",
    "\t\t 'mean_test_recall_macro', 'mean_test_recall_weighted',\n",
    "\t\t 'mean_test_f1_macro', 'mean_test_f1_weighted']]"
   ]
  },
  {
   "cell_type": "code",
   "execution_count": 23,
   "metadata": {},
   "outputs": [],
   "source": [
    "bests = df1[df1['mean_fit_time']==df1['mean_fit_time'].min()]\n",
    "bests = pd.concat([bests, df1[df1['mean_test_accuracy']==df1['mean_test_accuracy'].max()]])\n",
    "bests = pd.concat([bests, df1[df1['mean_test_f1_macro']==df1['mean_test_f1_macro'].max()]])\n",
    "bests = pd.concat([bests, df1[df1['mean_test_f1_weighted']==df1['mean_test_f1_weighted'].max()]])\n",
    "bests = pd.concat([bests, df1[df1['mean_test_recall_macro']==df1['mean_test_recall_macro'].max()]])\n",
    "bests = pd.concat([bests, df1[df1['mean_test_recall_weighted']==df1['mean_test_recall_weighted'].max()]])\n",
    "bests = pd.concat([bests, df1[df1['mean_test_precision_macro']==df1['mean_test_precision_macro'].max()]])\n",
    "bests = pd.concat([bests, df1[df1['mean_test_precision_weighted']==df1['mean_test_precision_weighted'].max()]])\n"
   ]
  },
  {
   "cell_type": "code",
   "execution_count": 24,
   "metadata": {},
   "outputs": [],
   "source": [
    "bests1 = bests.drop_duplicates()\n",
    "bests1 = bests1.round(2)"
   ]
  },
  {
   "cell_type": "code",
   "execution_count": 25,
   "metadata": {},
   "outputs": [],
   "source": [
    "bests1.to_csv('../../results/best_vectorizer/countvect_sequential.csv', sep=';')"
   ]
  },
  {
   "cell_type": "code",
   "execution_count": 26,
   "metadata": {},
   "outputs": [],
   "source": [
    "df = pd.read_csv('../../data/search/vectorizer_tfidf_search_sequential.csv', sep=';')\n",
    "df1 = df[['params', 'mean_fit_time', 'mean_test_accuracy',\n",
    "\t\t 'mean_test_precision_macro', 'mean_test_precision_weighted',\n",
    "\t\t 'mean_test_recall_macro', 'mean_test_recall_weighted',\n",
    "\t\t 'mean_test_f1_macro', 'mean_test_f1_weighted']]"
   ]
  },
  {
   "cell_type": "code",
   "execution_count": 27,
   "metadata": {},
   "outputs": [],
   "source": [
    "bests = df1[df1['mean_fit_time']==df1['mean_fit_time'].min()]\n",
    "bests = pd.concat([bests, df1[df1['mean_test_accuracy']==df1['mean_test_accuracy'].max()]])\n",
    "bests = pd.concat([bests, df1[df1['mean_test_f1_macro']==df1['mean_test_f1_macro'].max()]])\n",
    "bests = pd.concat([bests, df1[df1['mean_test_f1_weighted']==df1['mean_test_f1_weighted'].max()]])\n",
    "bests = pd.concat([bests, df1[df1['mean_test_recall_macro']==df1['mean_test_recall_macro'].max()]])\n",
    "bests = pd.concat([bests, df1[df1['mean_test_recall_weighted']==df1['mean_test_recall_weighted'].max()]])\n",
    "bests = pd.concat([bests, df1[df1['mean_test_precision_macro']==df1['mean_test_precision_macro'].max()]])\n",
    "bests = pd.concat([bests, df1[df1['mean_test_precision_weighted']==df1['mean_test_precision_weighted'].max()]])"
   ]
  },
  {
   "cell_type": "code",
   "execution_count": 28,
   "metadata": {},
   "outputs": [],
   "source": [
    "bests1 = bests.drop_duplicates()\n",
    "bests1 = bests1.round(2)"
   ]
  },
  {
   "cell_type": "code",
   "execution_count": 29,
   "metadata": {},
   "outputs": [],
   "source": [
    "bests1.to_csv('../../results/best_vectorizer/tfidf_sequential.csv', sep=';')"
   ]
  }
 ],
 "metadata": {
  "interpreter": {
   "hash": "7d5a85906b5019a95b914e054e1849c800da3b42d1a581ee9f65c61f2a58cefa"
  },
  "kernelspec": {
   "display_name": "Python 3 (ipykernel)",
   "language": "python",
   "name": "python3"
  },
  "language_info": {
   "codemirror_mode": {
    "name": "ipython",
    "version": 3
   },
   "file_extension": ".py",
   "mimetype": "text/x-python",
   "name": "python",
   "nbconvert_exporter": "python",
   "pygments_lexer": "ipython3",
   "version": "3.9.7"
  }
 },
 "nbformat": 4,
 "nbformat_minor": 2
}
