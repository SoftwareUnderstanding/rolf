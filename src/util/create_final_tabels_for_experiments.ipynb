{
 "cells": [
  {
   "cell_type": "code",
   "execution_count": 4,
   "metadata": {},
   "outputs": [],
   "source": [
    "import pandas as pd"
   ]
  },
  {
   "cell_type": "code",
   "execution_count": 44,
   "metadata": {},
   "outputs": [],
   "source": [
    "df = pd.read_csv('../../results/final_results/final_results_main_negative_samples_majority_best_models.csv', sep=';', index_col=False)\n",
    "df1 = df[['PipelineID', 'Pipeline', 'fit_time_mean', 'test_accuracy_mean', 'test_precision_mean',\n",
    "\t\t\t'test_recall_mean', 'test_f1-score_mean', 'test_tp_mean', 'test_tn_mean', 'test_fp_mean', 'test_fn_mean']]"
   ]
  },
  {
   "cell_type": "code",
   "execution_count": 45,
   "metadata": {},
   "outputs": [],
   "source": [
    "pd.options.display.float_format = \"{:,.2f}\".format"
   ]
  },
  {
   "cell_type": "code",
   "execution_count": 46,
   "metadata": {},
   "outputs": [
    {
     "data": {
      "text/plain": [
       "110"
      ]
     },
     "execution_count": 46,
     "metadata": {},
     "output_type": "execute_result"
    }
   ],
   "source": [
    "df1[df1['PipelineID']=='Sequential'].size"
   ]
  },
  {
   "cell_type": "code",
   "execution_count": 47,
   "metadata": {},
   "outputs": [],
   "source": [
    "df1 = df1.rename(columns={\"test_f1-score_mean\": \"F1\", 'test_precision_mean':'Pr', 'test_recall_mean':'R', 'test_accuracy_mean':'Acc', 'fit_time_mean':'time'})"
   ]
  },
  {
   "cell_type": "code",
   "execution_count": 48,
   "metadata": {},
   "outputs": [
    {
     "data": {
      "text/html": [
       "<div>\n",
       "<style scoped>\n",
       "    .dataframe tbody tr th:only-of-type {\n",
       "        vertical-align: middle;\n",
       "    }\n",
       "\n",
       "    .dataframe tbody tr th {\n",
       "        vertical-align: top;\n",
       "    }\n",
       "\n",
       "    .dataframe thead th {\n",
       "        text-align: right;\n",
       "    }\n",
       "</style>\n",
       "<table border=\"1\" class=\"dataframe\">\n",
       "  <thead>\n",
       "    <tr style=\"text-align: right;\">\n",
       "      <th></th>\n",
       "      <th>PipelineID</th>\n",
       "      <th>Pipeline</th>\n",
       "      <th>time</th>\n",
       "      <th>Acc</th>\n",
       "      <th>Pr</th>\n",
       "      <th>R</th>\n",
       "      <th>F1</th>\n",
       "      <th>test_tp_mean</th>\n",
       "      <th>test_tn_mean</th>\n",
       "      <th>test_fp_mean</th>\n",
       "      <th>test_fn_mean</th>\n",
       "    </tr>\n",
       "  </thead>\n",
       "  <tbody>\n",
       "    <tr>\n",
       "      <th>1</th>\n",
       "      <td>Audio</td>\n",
       "      <td>LR_TFIDF_RandomUnder</td>\n",
       "      <td>0.136708402633667</td>\n",
       "      <td>0.968421052631579</td>\n",
       "      <td>1.0</td>\n",
       "      <td>0.9355555555555556</td>\n",
       "      <td>0.9644736842105264</td>\n",
       "      <td>9.6</td>\n",
       "      <td>9.0</td>\n",
       "      <td>0.6</td>\n",
       "      <td>0.0</td>\n",
       "    </tr>\n",
       "    <tr>\n",
       "      <th>58</th>\n",
       "      <td>Computer Vision</td>\n",
       "      <td>SVC_TFIDF_RandomUnder</td>\n",
       "      <td>113.67994394302369</td>\n",
       "      <td>0.8780281690140844</td>\n",
       "      <td>0.8744679596275964</td>\n",
       "      <td>0.8828169014084507</td>\n",
       "      <td>0.8784855949782807</td>\n",
       "      <td>310.0</td>\n",
       "      <td>313.4</td>\n",
       "      <td>41.6</td>\n",
       "      <td>45.0</td>\n",
       "    </tr>\n",
       "    <tr>\n",
       "      <th>50</th>\n",
       "      <td>Natural Language Processing</td>\n",
       "      <td>RandomForestClassifier_Count_Vectors_RandomUnder</td>\n",
       "      <td>2.2054718494415284</td>\n",
       "      <td>0.9264877880976952</td>\n",
       "      <td>0.9185697546239714</td>\n",
       "      <td>0.936978810663021</td>\n",
       "      <td>0.9273008175824412</td>\n",
       "      <td>69.8</td>\n",
       "      <td>71.4</td>\n",
       "      <td>4.8</td>\n",
       "      <td>6.4</td>\n",
       "    </tr>\n",
       "    <tr>\n",
       "      <th>25</th>\n",
       "      <td>Graphs</td>\n",
       "      <td>SVC_TFIDF_RandomUnder</td>\n",
       "      <td>0.779164981842041</td>\n",
       "      <td>0.9426020408163265</td>\n",
       "      <td>0.9589090909090909</td>\n",
       "      <td>0.9256666666666666</td>\n",
       "      <td>0.9410304643596568</td>\n",
       "      <td>23.4</td>\n",
       "      <td>22.6</td>\n",
       "      <td>1.8</td>\n",
       "      <td>1.0</td>\n",
       "    </tr>\n",
       "    <tr>\n",
       "      <th>40</th>\n",
       "      <td>Reinforcement Learning</td>\n",
       "      <td>RandomForestClassifier_TFIDF_RandomUnder</td>\n",
       "      <td>2.19226713180542</td>\n",
       "      <td>0.9799403697078116</td>\n",
       "      <td>0.99375</td>\n",
       "      <td>0.9660576923076922</td>\n",
       "      <td>0.9796736617951826</td>\n",
       "      <td>62.6</td>\n",
       "      <td>64.4</td>\n",
       "      <td>0.4</td>\n",
       "      <td>2.2</td>\n",
       "    </tr>\n",
       "    <tr>\n",
       "      <th>14</th>\n",
       "      <td>Sequential</td>\n",
       "      <td>SVC_TFIDF_RandomUnder</td>\n",
       "      <td>0.43357148170471194</td>\n",
       "      <td>0.810153846153846</td>\n",
       "      <td>0.821346153846154</td>\n",
       "      <td>0.8102564102564103</td>\n",
       "      <td>0.8125399887468852</td>\n",
       "      <td>10.2</td>\n",
       "      <td>10.2</td>\n",
       "      <td>2.4</td>\n",
       "      <td>2.4</td>\n",
       "    </tr>\n",
       "  </tbody>\n",
       "</table>\n",
       "</div>"
      ],
      "text/plain": [
       "                     PipelineID  \\\n",
       "1                         Audio   \n",
       "58              Computer Vision   \n",
       "50  Natural Language Processing   \n",
       "25                       Graphs   \n",
       "40       Reinforcement Learning   \n",
       "14                   Sequential   \n",
       "\n",
       "                                            Pipeline                 time  \\\n",
       "1                               LR_TFIDF_RandomUnder    0.136708402633667   \n",
       "58                             SVC_TFIDF_RandomUnder   113.67994394302369   \n",
       "50  RandomForestClassifier_Count_Vectors_RandomUnder   2.2054718494415284   \n",
       "25                             SVC_TFIDF_RandomUnder    0.779164981842041   \n",
       "40          RandomForestClassifier_TFIDF_RandomUnder     2.19226713180542   \n",
       "14                             SVC_TFIDF_RandomUnder  0.43357148170471194   \n",
       "\n",
       "                   Acc                  Pr                   R  \\\n",
       "1    0.968421052631579                 1.0  0.9355555555555556   \n",
       "58  0.8780281690140844  0.8744679596275964  0.8828169014084507   \n",
       "50  0.9264877880976952  0.9185697546239714   0.936978810663021   \n",
       "25  0.9426020408163265  0.9589090909090909  0.9256666666666666   \n",
       "40  0.9799403697078116             0.99375  0.9660576923076922   \n",
       "14   0.810153846153846   0.821346153846154  0.8102564102564103   \n",
       "\n",
       "                    F1 test_tp_mean test_tn_mean test_fp_mean test_fn_mean  \n",
       "1   0.9644736842105264          9.6          9.0          0.6          0.0  \n",
       "58  0.8784855949782807        310.0        313.4         41.6         45.0  \n",
       "50  0.9273008175824412         69.8         71.4          4.8          6.4  \n",
       "25  0.9410304643596568         23.4         22.6          1.8          1.0  \n",
       "40  0.9796736617951826         62.6         64.4          0.4          2.2  \n",
       "14  0.8125399887468852         10.2         10.2          2.4          2.4  "
      ]
     },
     "execution_count": 48,
     "metadata": {},
     "output_type": "execute_result"
    }
   ],
   "source": [
    "sol = pd.DataFrame(columns=df1.columns)\n",
    "sol = sol.append(df1[df1['PipelineID']=='Audio'].query('F1 == F1.max()').query('Pr == Pr.max()').query('R == R.max()').query('Acc == Acc.max()').query('F1 == F1.max()').query('time == time.min()'))\n",
    "sol = sol.append(df1[df1['PipelineID']=='Computer Vision'].query('F1 == F1.max()').query('Pr == Pr.max()').query('R == R.max()').query('Acc == Acc.max()').query('F1 == F1.max()').query('time == time.min()'))\n",
    "sol = sol.append(df1[df1['PipelineID']=='Natural Language Processing'].query('F1 == F1.max()').query('Pr == Pr.max()').query('R == R.max()').query('Acc == Acc.max()').query('F1 == F1.max()').query('time == time.min()'))\n",
    "sol = sol.append(df1[df1['PipelineID']=='Graphs'].query('F1 == F1.max()').query('Pr == Pr.max()').query('R == R.max()').query('Acc == Acc.max()').query('F1 == F1.max()').query('time == time.min()'))\n",
    "sol = sol.append(df1[df1['PipelineID']=='Reinforcement Learning'].query('F1 == F1.max()').query('Pr == Pr.max()').query('R == R.max()').query('Acc == Acc.max()').query('F1 == F1.max()').query('time == time.min()'))\n",
    "sol = sol.append(df1[df1['PipelineID']=='Sequential'].query('F1 == F1.max()').query('Pr == Pr.max()').query('R == R.max()').query('Acc == Acc.max()').query('F1 == F1.max()').query('time == time.min()'))\n",
    "sol"
   ]
  }
 ],
 "metadata": {
  "interpreter": {
   "hash": "7d5a85906b5019a95b914e054e1849c800da3b42d1a581ee9f65c61f2a58cefa"
  },
  "kernelspec": {
   "display_name": "Python 3.9.7 ('base')",
   "language": "python",
   "name": "python3"
  },
  "language_info": {
   "codemirror_mode": {
    "name": "ipython",
    "version": 3
   },
   "file_extension": ".py",
   "mimetype": "text/x-python",
   "name": "python",
   "nbconvert_exporter": "python",
   "pygments_lexer": "ipython3",
   "version": "3.9.7"
  },
  "orig_nbformat": 4
 },
 "nbformat": 4,
 "nbformat_minor": 2
}
