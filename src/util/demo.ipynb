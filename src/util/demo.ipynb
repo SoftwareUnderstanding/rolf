{
 "cells": [
  {
   "cell_type": "code",
   "execution_count": 1,
   "metadata": {},
   "outputs": [],
   "source": [
    "import pandas as pd\n",
    "import pickle\n",
    "import sys\n",
    "from Preprocessor import Preprocessor\n",
    "from Vectorizing.CountVectorizer import getCountVectorizer\n",
    "from Vectorizing.TF_IDF_Vectorizer import getWordLevelVectorizer\n",
    "import os"
   ]
  },
  {
   "cell_type": "code",
   "execution_count": 3,
   "metadata": {},
   "outputs": [],
   "source": [
    "df_train = pd.read_csv('../data/train_test_data/readme_new_preprocessed_test.csv', sep=';')\n",
    "df_train = df_train.drop(df_train[df_train['Label'] == 'General'].index)\n",
    "#df_train = df_train.drop(df_train[df_train['Text'] == ''].index)\n",
    "#Preprocessor(df_train).run()"
   ]
  },
  {
   "cell_type": "code",
   "execution_count": 4,
   "metadata": {},
   "outputs": [],
   "source": [
    "TEXT = \"Text\"\n",
    "LABEL = \"Label\"\n",
    "x_train = df_train[TEXT].astype('U')\n",
    "y_train = df_train[LABEL]"
   ]
  },
  {
   "cell_type": "code",
   "execution_count": 5,
   "metadata": {},
   "outputs": [],
   "source": [
    "#count_vect = getWordLevelVectorizer(df_train, TEXT)\n",
    "#from sklearn.feature_extraction.text import TfidfVectorizer\n",
    "#count_vect = TfidfVectorizer(analyzer='word', token_pattern=r'\\w{1,}', max_features=10000)\n",
    "#count_vect.fit(df_train[TEXT])"
   ]
  },
  {
   "cell_type": "code",
   "execution_count": 5,
   "metadata": {},
   "outputs": [
    {
     "name": "stdout",
     "output_type": "stream",
     "text": [
      "audio_Linear_SVC_TFIDF_RandomUnder_.sav\n",
      "computer_vision_Linear_SVC_TFIDF_RandomUnder_.sav\n",
      "graphs_Linear_SVC_TFIDF_RandomUnder_.sav\n",
      "natural_language_processing_Linear_SVC_TFIDF_RandomUnder_.sav\n",
      "reinforcement_learning_Linear_SVC_TFIDF_RandomUnder_.sav\n",
      "sequential_Linear_SVC_TFIDF_RandomUnder_.sav\n"
     ]
    }
   ],
   "source": [
    "dir = '../results/models/demo1/'\n",
    "models = os.listdir(dir)\n",
    "for model in models:\n",
    "    print(model)\n",
    "    if 'audio' in model:\n",
    "        audio_clf = pickle.load(open(dir+model, 'rb'))\n",
    "    if 'computer_vision' in model:\n",
    "        cv_clf = pickle.load(open(dir+model, 'rb'))\n",
    "    if 'graphs' in model:\n",
    "        graphs_clf = pickle.load(open(dir+model, 'rb'))\n",
    "    if 'natural' in model:\n",
    "        nlp_clf = pickle.load(open(dir+model, 'rb'))\n",
    "    if 'reinforcement' in model:\n",
    "        rl_clf = pickle.load(open(dir+model, 'rb'))\n",
    "    if 'sequential' in model:\n",
    "        seq_clf = pickle.load(open(dir+model, 'rb'))"
   ]
  },
  {
   "cell_type": "code",
   "execution_count": 30,
   "metadata": {},
   "outputs": [],
   "source": [
    "#x = ['some text'])\n",
    "#x"
   ]
  },
  {
   "cell_type": "code",
   "execution_count": 9,
   "metadata": {},
   "outputs": [
    {
     "name": "stdout",
     "output_type": "stream",
     "text": [
      "['Audio'] [0.31309485 0.68690515]\n",
      "Good:  0\n",
      "Bad:  1\n",
      "Accuracy:  0.0\n"
     ]
    }
   ],
   "source": [
    "threshold = 0.7\n",
    "\n",
    "good = 0\n",
    "bad = 0\n",
    "df_train[TEXT] = df_train[TEXT].astype('U')\n",
    "for ind, row in df_train.iterrows():\n",
    "    text = row[TEXT]\n",
    "    #print([row[TEXT]])\n",
    "    #print(row[TEXT])\n",
    "    if row[TEXT]:\n",
    "        pass\n",
    "    outs = []\n",
    "    try:\n",
    "        outs.append(audio_clf.predict([row[TEXT]])[0])\n",
    "    except:\n",
    "        print(row[TEXT])\n",
    "    [proba] = cv_clf.predict_proba([text])\n",
    "    print(outs, proba)\n",
    "    if max(proba) < threshold: outs.append('Other')    \n",
    "    else: outs.append(cv_clf.predict([text])[0])\n",
    "    [proba] = graphs_clf.predict_proba([text])\n",
    "    if max(proba) < threshold: outs.append('Other') \n",
    "    else: outs.append(graphs_clf.predict([text])[0])\n",
    "    [proba] = nlp_clf.predict_proba([text])\n",
    "    if max(proba) < threshold: outs.append('Other') \n",
    "    else: outs.append(nlp_clf.predict([text])[0])\n",
    "    [proba] = rl_clf.predict_proba([text])\n",
    "    if max(proba) < threshold: outs.append('Other') \n",
    "    else: outs.append(rl_clf.predict([text])[0])\n",
    "    [proba] = seq_clf.predict_proba([text])\n",
    "    if max(proba) < threshold: outs.append('Other') \n",
    "    else: outs.append(seq_clf.predict([text])[0])\n",
    "    labels = list(df_train[df_train['Repo'] == row['Repo']][LABEL])\n",
    "    outs = [i for i in outs if i != 'Other']\n",
    "    #print('True labels: ', labels, ' Predicted: ', outs)\n",
    "    if outs == labels: good += 1\n",
    "    #if set(outs) & (set(labels)): good += 1\n",
    "    #if set(outs).issubset(set(labels)): good += 1\n",
    "    else: \n",
    "        bad += 1\n",
    "        #print(f'True: {labels}')\n",
    "        #print(f'Predicted: {outs}')\n",
    "    break\n",
    "print('Good: ', good)\n",
    "print('Bad: ', bad)\n",
    "print('Accuracy: ', good/(good+bad))\n",
    "    "
   ]
  },
  {
   "cell_type": "code",
   "execution_count": 14,
   "metadata": {},
   "outputs": [
    {
     "name": "stdout",
     "output_type": "stream",
     "text": [
      "Audio: [[0.22656203 0.77343797]\n",
      " [0.11299323 0.88700677]\n",
      " [0.23353339 0.76646661]\n",
      " [0.42863842 0.57136158]]\n",
      "Audio:  ['Other' 'Other' 'Other' 'Other']\n",
      "CV: [[0.47583363 0.52416637]\n",
      " [0.83411481 0.16588519]\n",
      " [0.48620635 0.51379365]\n",
      " [0.06249218 0.93750782]]\n",
      "CV:  ['Other' 'Computer Vision' 'Other' 'Other']\n",
      "Graphs: ['Other' 'Other' 'Other' 'Other']\n",
      "Graphs: [[0.10443215 0.89556785]\n",
      " [0.07553737 0.92446263]\n",
      " [0.11677349 0.88322651]\n",
      " [0.01969819 0.98030181]]\n",
      "NLP: ['Other' 'Other' 'Other' 'Natural Language Processing']\n",
      "NLP: [[0.23123268 0.76876732]\n",
      " [0.05815566 0.94184434]\n",
      " [0.19908639 0.80091361]\n",
      " [0.5042214  0.4957786 ]]\n",
      "RL: ['Other' 'Other' 'Other' 'Other']\n",
      "RL: [[0.77649418 0.22350582]\n",
      " [0.55457371 0.44542629]\n",
      " [0.8030013  0.1969987 ]\n",
      " [0.96766672 0.03233328]]\n",
      "Seq: ['Other' 'Other' 'Other' 'Other']\n",
      "Seq: [[0.66256696 0.33743304]\n",
      " [0.72281886 0.27718114]\n",
      " [0.66044731 0.33955269]\n",
      " [0.64472463 0.35527537]]\n"
     ]
    }
   ],
   "source": [
    "text = ['a said this is an old story']\n",
    "text += ['car detect yolo intend week 3 program assign']\n",
    "text += ['']\n",
    "text += ['text, ']\n",
    "\n",
    "x = audio_clf.predict(text)\n",
    "print(f'Audio: {audio_clf.predict_proba(text)}')\n",
    "print('Audio: ', x)\n",
    "x = cv_clf.predict(text)\n",
    "print(f'CV: {cv_clf.predict_proba(text)}')\n",
    "print('CV: ', x)\n",
    "x = graphs_clf.predict(text)\n",
    "print('Graphs:', x)\n",
    "print(f'Graphs: {graphs_clf.predict_proba(text)}')\n",
    "x = nlp_clf.predict(text)\n",
    "print('NLP:', x)\n",
    "print(f'NLP: {nlp_clf.predict_proba(text)}')\n",
    "x = rl_clf.predict(text)\n",
    "print('RL:', x)\n",
    "print(f'RL: {rl_clf.predict_proba(text)}')\n",
    "x = seq_clf.predict(text)\n",
    "print('Seq:', x)\n",
    "print(f'Seq: {seq_clf.predict_proba(text)}')\n"
   ]
  }
 ],
 "metadata": {
  "interpreter": {
   "hash": "7d5a85906b5019a95b914e054e1849c800da3b42d1a581ee9f65c61f2a58cefa"
  },
  "kernelspec": {
   "display_name": "Python 3.9.7 ('base')",
   "language": "python",
   "name": "python3"
  },
  "language_info": {
   "codemirror_mode": {
    "name": "ipython",
    "version": 3
   },
   "file_extension": ".py",
   "mimetype": "text/x-python",
   "name": "python",
   "nbconvert_exporter": "python",
   "pygments_lexer": "ipython3",
   "version": "3.9.7"
  },
  "orig_nbformat": 4
 },
 "nbformat": 4,
 "nbformat_minor": 2
}
