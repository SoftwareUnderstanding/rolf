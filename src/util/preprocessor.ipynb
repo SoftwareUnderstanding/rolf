{
 "cells": [
  {
   "cell_type": "code",
   "execution_count": 1,
   "metadata": {},
   "outputs": [],
   "source": [
    "#from os import remove\n",
    "import pandas as pd\n",
    "#from keras.preprocessing.text import text_to_word_sequence\n",
    "from numpy import loadtxt\n",
    "import string\n",
    "from nltk import word_tokenize\n",
    "from nltk.corpus import stopwords\n",
    "from nltk.stem.porter import PorterStemmer\n",
    "from nltk.stem import WordNetLemmatizer\n",
    "import re\n",
    "from preprocessing import Preprocessor\n",
    "\n",
    "TEXT = 'Text'"
   ]
  },
  {
   "cell_type": "code",
   "execution_count": 2,
   "metadata": {},
   "outputs": [
    {
     "name": "stdout",
     "output_type": "stream",
     "text": [
      "                                                Text\n",
      "0  # Title: This isn't a real README ## Subtitle ...\n"
     ]
    }
   ],
   "source": [
    "t = \"\"\"# Title: This isn't a real README ## Subtitle nr 1 ``` pip3 install pandas ```  https://paperswithcode.com/ https://paperswithcode.com/  <!doctype html> <html lang=\"en\"> <head> <title>Some readme example from 2022</title> </head> <body> <p>Body comes here</p> </body> </html>  ## Subtitle nr 2  Test lemmatizer: hidden, walking, ran, found  Some non ASCII character: ディープラーニングに関する論文の実装を先行研究から順に進める\"\"\"\n",
    "text = pd.DataFrame([t], columns=[TEXT])\n",
    "print(text)"
   ]
  },
  {
   "cell_type": "code",
   "execution_count": 3,
   "metadata": {},
   "outputs": [
    {
     "name": "stdout",
     "output_type": "stream",
     "text": [
      "\u001b[34mpreprocessing.py:   194: 2022-04-25 01:11:33Z:\u001b[0m Preprocessing: Process name: \"remove codeblocks\".\n",
      "\u001b[34mpreprocessing.py:   194: 2022-04-25 01:11:33Z:\u001b[0m Preprocessing: Process name: \"remove links\".\n",
      "\u001b[34mpreprocessing.py:   194: 2022-04-25 01:11:33Z:\u001b[0m Preprocessing: Process name: \"remove tags\".\n",
      "\u001b[34mpreprocessing.py:   194: 2022-04-25 01:11:33Z:\u001b[0m Preprocessing: Process name: \"remove punctuations\".\n",
      "\u001b[34mpreprocessing.py:   194: 2022-04-25 01:11:33Z:\u001b[0m Preprocessing: Process name: \"transform to lowercase\".\n",
      "\u001b[34mpreprocessing.py:   194: 2022-04-25 01:11:33Z:\u001b[0m Preprocessing: Process name: \"remove non-ascii characters\".\n",
      "\u001b[34mpreprocessing.py:   194: 2022-04-25 01:11:33Z:\u001b[0m Preprocessing: Process name: \"lemmatize verbs\".\n",
      "\u001b[34mpreprocessing.py:   194: 2022-04-25 01:11:34Z:\u001b[0m Preprocessing: Process name: \"lemmatize nouns\".\n",
      "\u001b[34mpreprocessing.py:   194: 2022-04-25 01:11:34Z:\u001b[0m Preprocessing: Process name: \"lemmatize adjectives\".\n",
      "\u001b[34mpreprocessing.py:   194: 2022-04-25 01:11:34Z:\u001b[0m Preprocessing: Process name: \"remove stop_words\".\n",
      "\u001b[34mpreprocessing.py:   194: 2022-04-25 01:11:34Z:\u001b[0m Preprocessing: Process name: \"remove tokens only containing numbers or two char\".\n",
      "\u001b[34mpreprocessing.py:   194: 2022-04-25 01:11:34Z:\u001b[0m Preprocessing: Process name: \"join tokens\".\n",
      "\u001b[34mpreprocessing.py:   198: 2022-04-25 01:11:34Z:\u001b[0m Preprocessing: drop empty rows.\n",
      "title real readme subtitle readme body come subtitle test lemmatizer hide walk find non ascii character\n"
     ]
    }
   ],
   "source": [
    "Preprocessor(text).run()\n",
    "print(text[TEXT][0])"
   ]
  }
 ],
 "metadata": {
  "interpreter": {
   "hash": "7d5a85906b5019a95b914e054e1849c800da3b42d1a581ee9f65c61f2a58cefa"
  },
  "kernelspec": {
   "display_name": "Python 3.9.7 ('base')",
   "language": "python",
   "name": "python3"
  },
  "language_info": {
   "codemirror_mode": {
    "name": "ipython",
    "version": 3
   },
   "file_extension": ".py",
   "mimetype": "text/x-python",
   "name": "python",
   "nbconvert_exporter": "python",
   "pygments_lexer": "ipython3",
   "version": "3.9.7"
  },
  "orig_nbformat": 4
 },
 "nbformat": 4,
 "nbformat_minor": 2
}
