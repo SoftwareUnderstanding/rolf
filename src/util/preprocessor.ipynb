{
 "cells": [
  {
   "cell_type": "code",
   "execution_count": 1,
   "metadata": {},
   "outputs": [],
   "source": [
    "#from os import remove\n",
    "import pandas as pd\n",
    "#from keras.preprocessing.text import text_to_word_sequence\n",
    "from numpy import loadtxt\n",
    "import string\n",
    "from nltk import word_tokenize\n",
    "from nltk.corpus import stopwords\n",
    "from nltk.stem.porter import PorterStemmer\n",
    "from nltk.stem import WordNetLemmatizer\n",
    "import re\n",
    "from preprocessing import Preprocessor\n",
    "\n",
    "TEXT = 'Text'"
   ]
  },
  {
   "cell_type": "code",
   "execution_count": 2,
   "metadata": {},
   "outputs": [
    {
     "name": "stdout",
     "output_type": "stream",
     "text": [
      "                                                Text\n",
      "0  # Software Metadata Extraction Framework (SOME...\n",
      "# Software Metadata Extraction Framework (SOMEF)  https://pypi.org/project/somef/  ``` cd somef pip install -e . ```  <img src=\"docs/logo.png\" alt=\"logo\" width=\"150\"/>  A command line interface for automatically extracting relevant information from readme files.  ## Features Given a readme file (or a GitHub/Gitlab repository) SOMEF will extract the following categories (if present): - **Name**: Name identifying a software component - **Full name**: Name + owner (owner/name) - **Source code**: Link to the source code (typically the repository where the readme can be found)  If you don't include an authentication token, you can still use SOMEF. ディープラーニングに関する論文の実装を先行研究から順に進める\n"
     ]
    }
   ],
   "source": [
    "t = \"\"\"# Software Metadata Extraction Framework (SOMEF)  https://pypi.org/project/somef/  ``` cd somef pip install -e . ```  <img src=\"docs/logo.png\" alt=\"logo\" width=\"150\"/>  A command line interface for automatically extracting relevant information from readme files.  ## Features Given a readme file (or a GitHub/Gitlab repository) SOMEF will extract the following categories (if present): - **Name**: Name identifying a software component - **Full name**: Name + owner (owner/name) - **Source code**: Link to the source code (typically the repository where the readme can be found)  If you don't include an authentication token, you can still use SOMEF. ディープラーニングに関する論文の実装を先行研究から順に進める\"\"\"\n",
    "text = pd.DataFrame([t], columns=[TEXT])\n",
    "print(text)\n",
    "print(text[TEXT][0])"
   ]
  },
  {
   "cell_type": "code",
   "execution_count": 3,
   "metadata": {},
   "outputs": [
    {
     "name": "stdout",
     "output_type": "stream",
     "text": [
      "\u001b[34mpreprocessing.py:   195: 2022-05-12 02:16:00Z:\u001b[0m Preprocessing: Process name: \"remove codeblocks\".\n",
      "# Software Metadata Extraction Framework (SOMEF)  https://pypi.org/project/somef/     <img src=\"docs/logo.png\" alt=\"logo\" width=\"150\"/>  A command line interface for automatically extracting relevant information from readme files.  ## Features Given a readme file (or a GitHub/Gitlab repository) SOMEF will extract the following categories (if present): - **Name**: Name identifying a software component - **Full name**: Name + owner (owner/name) - **Source code**: Link to the source code (typically the repository where the readme can be found)  If you don't include an authentication token, you can still use SOMEF. ディープラーニングに関する論文の実装を先行研究から順に進める\n",
      "\u001b[34mpreprocessing.py:   195: 2022-05-12 02:16:00Z:\u001b[0m Preprocessing: Process name: \"remove links\".\n",
      "# Software Metadata Extraction Framework (SOMEF)      <img src=\"docs/logo.png\" alt=\"logo\" width=\"150\"/>  A command line interface for automatically extracting relevant information from readme files.  ## Features Given a readme file (or a GitHub/Gitlab repository) SOMEF will extract the following categories (if present): - **Name**: Name identifying a software component - **Full name**: Name + owner (owner/name) - **Source code**: Link to the source code (typically the repository where the readme can be found)  If you don't include an authentication token, you can still use SOMEF. ディープラーニングに関する論文の実装を先行研究から順に進める\n",
      "\u001b[34mpreprocessing.py:   195: 2022-05-12 02:16:00Z:\u001b[0m Preprocessing: Process name: \"remove tags\".\n",
      "# Software Metadata Extraction Framework (SOMEF)        A command line interface for automatically extracting relevant information from readme files.  ## Features Given a readme file (or a GitHub/Gitlab repository) SOMEF will extract the following categories (if present): - **Name**: Name identifying a software component - **Full name**: Name + owner (owner/name) - **Source code**: Link to the source code (typically the repository where the readme can be found)  If you don't include an authentication token, you can still use SOMEF. ディープラーニングに関する論文の実装を先行研究から順に進める\n",
      "# Software Metadata Extraction Framework (SOMEF)        A command line interface for automatically extracting relevant information from readme files.  ## Features Given a readme file (or a GitHub/Gitlab repository) SOMEF will extract the following categories (if present): - **Name**: Name identifying a software component - **Full name**: Name + owner (owner/name) - **Source code**: Link to the source code (typically the repository where the readme can be found)  If you do not include an authentication token, you can still use SOMEF. ディープラーニングに関する論文の実装を先行研究から順に進める\n",
      "\u001b[34mpreprocessing.py:   195: 2022-05-12 02:16:00Z:\u001b[0m Preprocessing: Process name: \"remove punctuations\".\n",
      "  Software Metadata Extraction Framework  SOMEF         A command line interface for automatically extracting relevant information from readme files      Features Given a readme file  or a GitHub Gitlab repository  SOMEF will extract the following categories  if present       Name    Name identifying a software component     Full name    Name   owner  owner name      Source code    Link to the source code  typically the repository where the readme can be found   If you do not include an authentication token  you can still use SOMEF  ディープラーニングに関する論文の実装を先行研究から順に進める\n",
      "\u001b[34mpreprocessing.py:   195: 2022-05-12 02:16:00Z:\u001b[0m Preprocessing: Process name: \"transform to lowercase\".\n",
      "  software metadata extraction framework  somef         a command line interface for automatically extracting relevant information from readme files      features given a readme file  or a github gitlab repository  somef will extract the following categories  if present       name    name identifying a software component     full name    name   owner  owner name      source code    link to the source code  typically the repository where the readme can be found   if you do not include an authentication token  you can still use somef  ディープラーニングに関する論文の実装を先行研究から順に進める\n",
      "\u001b[34mpreprocessing.py:   195: 2022-05-12 02:16:00Z:\u001b[0m Preprocessing: Process name: \"remove non-ascii characters\".\n",
      "['software', 'metadata', 'extraction', 'framework', 'somef', 'a', 'command', 'line', 'interface', 'for', 'automatically', 'extracting', 'relevant', 'information', 'from', 'readme', 'files', 'features', 'given', 'a', 'readme', 'file', 'or', 'a', 'github', 'gitlab', 'repository', 'somef', 'will', 'extract', 'the', 'following', 'categories', 'if', 'present', 'name', 'name', 'identifying', 'a', 'software', 'component', 'full', 'name', 'name', 'owner', 'owner', 'name', 'source', 'code', 'link', 'to', 'the', 'source', 'code', 'typically', 'the', 'repository', 'where', 'the', 'readme', 'can', 'be', 'found', 'if', 'you', 'do', 'not', 'include', 'an', 'authentication', 'token', 'you', 'can', 'still', 'use', 'somef', '']\n",
      "\u001b[34mpreprocessing.py:   195: 2022-05-12 02:16:00Z:\u001b[0m Preprocessing: Process name: \"lemmatize verbs\".\n",
      "['software', 'metadata', 'extraction', 'framework', 'somef', 'a', 'command', 'line', 'interface', 'for', 'automatically', 'extract', 'relevant', 'information', 'from', 'readme', 'file', 'feature', 'give', 'a', 'readme', 'file', 'or', 'a', 'github', 'gitlab', 'repository', 'somef', 'will', 'extract', 'the', 'follow', 'categories', 'if', 'present', 'name', 'name', 'identify', 'a', 'software', 'component', 'full', 'name', 'name', 'owner', 'owner', 'name', 'source', 'code', 'link', 'to', 'the', 'source', 'code', 'typically', 'the', 'repository', 'where', 'the', 'readme', 'can', 'be', 'find', 'if', 'you', 'do', 'not', 'include', 'an', 'authentication', 'token', 'you', 'can', 'still', 'use', 'somef', '']\n",
      "\u001b[34mpreprocessing.py:   195: 2022-05-12 02:16:01Z:\u001b[0m Preprocessing: Process name: \"lemmatize nouns\".\n",
      "['software', 'metadata', 'extraction', 'framework', 'somef', 'a', 'command', 'line', 'interface', 'for', 'automatically', 'extract', 'relevant', 'information', 'from', 'readme', 'file', 'feature', 'give', 'a', 'readme', 'file', 'or', 'a', 'github', 'gitlab', 'repository', 'somef', 'will', 'extract', 'the', 'follow', 'category', 'if', 'present', 'name', 'name', 'identify', 'a', 'software', 'component', 'full', 'name', 'name', 'owner', 'owner', 'name', 'source', 'code', 'link', 'to', 'the', 'source', 'code', 'typically', 'the', 'repository', 'where', 'the', 'readme', 'can', 'be', 'find', 'if', 'you', 'do', 'not', 'include', 'an', 'authentication', 'token', 'you', 'can', 'still', 'use', 'somef', '']\n",
      "\u001b[34mpreprocessing.py:   195: 2022-05-12 02:16:01Z:\u001b[0m Preprocessing: Process name: \"lemmatize adjectives\".\n",
      "['software', 'metadata', 'extraction', 'framework', 'somef', 'a', 'command', 'line', 'interface', 'for', 'automatically', 'extract', 'relevant', 'information', 'from', 'readme', 'file', 'feature', 'give', 'a', 'readme', 'file', 'or', 'a', 'github', 'gitlab', 'repository', 'somef', 'will', 'extract', 'the', 'follow', 'category', 'if', 'present', 'name', 'name', 'identify', 'a', 'software', 'component', 'full', 'name', 'name', 'owner', 'owner', 'name', 'source', 'code', 'link', 'to', 'the', 'source', 'code', 'typically', 'the', 'repository', 'where', 'the', 'readme', 'can', 'be', 'find', 'if', 'you', 'do', 'not', 'include', 'an', 'authentication', 'token', 'you', 'can', 'still', 'use', 'somef', '']\n",
      "\u001b[34mpreprocessing.py:   195: 2022-05-12 02:16:01Z:\u001b[0m Preprocessing: Process name: \"remove stop_words\".\n",
      "['software', 'metadata', 'extraction', 'framework', 'somef', 'command', 'line', 'interface', 'automatically', 'extract', 'relevant', 'information', 'readme', 'feature', 'give', 'readme', 'github', 'gitlab', 'repository', 'somef', 'extract', 'follow', 'category', 'present', 'name', 'name', 'identify', 'software', 'component', 'full', 'name', 'name', 'owner', 'owner', 'name', 'source', 'link', 'source', 'typically', 'repository', 'readme', 'find', 'include', 'authentication', 'token', 'still', 'somef', '']\n",
      "\u001b[34mpreprocessing.py:   195: 2022-05-12 02:16:01Z:\u001b[0m Preprocessing: Process name: \"remove tokens only containing numbers or two char\".\n",
      "['software', 'metadata', 'extraction', 'framework', 'somef', 'command', 'line', 'interface', 'automatically', 'extract', 'relevant', 'information', 'readme', 'feature', 'give', 'readme', 'github', 'gitlab', 'repository', 'somef', 'extract', 'follow', 'category', 'present', 'name', 'name', 'identify', 'software', 'component', 'full', 'name', 'name', 'owner', 'owner', 'name', 'source', 'link', 'source', 'typically', 'repository', 'readme', 'find', 'include', 'authentication', 'token', 'still', 'somef']\n",
      "\u001b[34mpreprocessing.py:   195: 2022-05-12 02:16:01Z:\u001b[0m Preprocessing: Process name: \"join tokens\".\n",
      "software metadata extraction framework somef command line interface automatically extract relevant information readme feature give readme github gitlab repository somef extract follow category present name name identify software component full name name owner owner name source link source typically repository readme find include authentication token still somef\n",
      "\u001b[34mpreprocessing.py:   200: 2022-05-12 02:16:01Z:\u001b[0m Preprocessing: drop empty rows.\n",
      "software metadata extraction framework somef command line interface automatically extract relevant information readme feature give readme github gitlab repository somef extract follow category present name name identify software component full name name owner owner name source link source typically repository readme find include authentication token still somef\n"
     ]
    }
   ],
   "source": [
    "Preprocessor(text).run()\n",
    "print(text[TEXT][0])"
   ]
  }
 ],
 "metadata": {
  "interpreter": {
   "hash": "7d5a85906b5019a95b914e054e1849c800da3b42d1a581ee9f65c61f2a58cefa"
  },
  "kernelspec": {
   "display_name": "Python 3.9.7 ('base')",
   "language": "python",
   "name": "python3"
  },
  "language_info": {
   "codemirror_mode": {
    "name": "ipython",
    "version": 3
   },
   "file_extension": ".py",
   "mimetype": "text/x-python",
   "name": "python",
   "nbconvert_exporter": "python",
   "pygments_lexer": "ipython3",
   "version": "3.9.7"
  },
  "orig_nbformat": 4
 },
 "nbformat": 4,
 "nbformat_minor": 2
}
