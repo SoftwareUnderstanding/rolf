{
 "cells": [
  {
   "cell_type": "code",
   "execution_count": 1,
   "metadata": {},
   "outputs": [
    {
     "name": "stderr",
     "output_type": "stream",
     "text": [
      "2022-03-14 23:23:59.235196: W tensorflow/stream_executor/platform/default/dso_loader.cc:64] Could not load dynamic library 'libcudart.so.11.0'; dlerror: libcudart.so.11.0: cannot open shared object file: No such file or directory\n",
      "2022-03-14 23:23:59.235213: I tensorflow/stream_executor/cuda/cudart_stub.cc:29] Ignore above cudart dlerror if you do not have a GPU set up on your machine.\n"
     ]
    }
   ],
   "source": [
    "from cgi import print_environ\n",
    "from time import time\n",
    "import pandas as pd\n",
    "from sklearn import datasets\n",
    "from Preprocessor1 import Preprocessor\n",
    "from sklearn.preprocessing import LabelEncoder\n",
    "import numpy as np\n",
    "import csv\n",
    "from sklearn.linear_model import LogisticRegression\n",
    "from imblearn.under_sampling import RandomUnderSampler\n",
    "from sklearn.utils.class_weight import compute_class_weight\n",
    "from sklearn.svm import SVC, LinearSVC\n",
    "from sklearn.neighbors import KNeighborsClassifier\n",
    "from sklearn.ensemble import RandomForestClassifier\n",
    "from sklearn.linear_model import SGDClassifier\n",
    "from sklearn.ensemble import AdaBoostClassifier\n",
    "from sklearn.naive_bayes import MultinomialNB\n",
    "from keras.preprocessing import sequence\n",
    "from keras.preprocessing.text import Tokenizer\n",
    "from tqdm import tqdm\n",
    "import fasttext\n",
    "\n",
    "from Vectorizing.CountVectorizer import getCountVectorizer\n",
    "from Vectorizing.TF_IDF_Vectorizer import getWordLevelVectorizer, getNGramLevelVectorizer\n",
    "from Embedding.WordEmbedding import createWordEmbedding\n",
    "from Report import Report\n",
    "from writeResults import writeResults\n",
    "from Report.CrossValidateNN import cross_validate_NN\n",
    "from lstmModel import create_lstm_model, create_bidirec_lstm_model\n",
    "\n",
    "from sklearn.multiclass import OneVsRestClassifier\n",
    "from sklearn.metrics import confusion_matrix\n",
    "from sklearn.metrics import ConfusionMatrixDisplay\n",
    "from sklearn.metrics import precision_recall_fscore_support, make_scorer, accuracy_score, precision_score, recall_score, f1_score\n",
    "\n",
    "import matplotlib.pyplot as plt\n",
    "import seaborn as sns"
   ]
  },
  {
   "cell_type": "code",
   "execution_count": 2,
   "metadata": {},
   "outputs": [],
   "source": [
    "TEXT = \"Text\"\n",
    "LABEL = \"Label\""
   ]
  },
  {
   "cell_type": "code",
   "execution_count": 3,
   "metadata": {},
   "outputs": [
    {
     "name": "stdout",
     "output_type": "stream",
     "text": [
      "['Reinforcement Learning' 'Computer Vision' 'Graphs'\n",
      " 'Natural Language Processing' 'Audio' 'Sequential']\n",
      "Final: \n",
      "              Label                                             Repo  \\\n",
      "1  Computer Vision              https://github.com/KPMG-wiseuniv/AI   \n",
      "4  Computer Vision              https://github.com/bupt-ai-cz/LLVIP   \n",
      "5  Computer Vision  https://github.com/kfx7577/Caffe_VehicleCounter   \n",
      "6  Computer Vision                   https://github.com/MCG-NJU/TDN   \n",
      "7  Computer Vision           https://github.com/achiyaj/vqa-sandbox   \n",
      "\n",
      "                                                Text  \n",
      "1  fit room 슬기로운 대학생활 안녕하십니까 저희는 covid19 이후 ‘인테리어...  \n",
      "4  llvip visibleinfrar pair dataset lowlight visi...  \n",
      "5  ssd singl shot multibox detector build wei dra...  \n",
      "6  tdn tempor differ effici action recognit cvpr ...  \n",
      "7  tffasterrcnn deprec good uptod fastermask rcnn...  \n",
      "Final: \n",
      "                     Label                                               Repo  \\\n",
      "0  Reinforcement Learning  https://github.com/petsol/ContinuousControl_Un...   \n",
      "1  Reinforcement Learning  https://github.com/lachisis/multiagent-particl...   \n",
      "2         Computer Vision      https://github.com/gargarchit/60DaysOfUdacity   \n",
      "5                  Graphs  https://github.com/FilippoMB/Benchmark_dataset...   \n",
      "6         Computer Vision            https://github.com/lucidrains/g-mlp-gpt   \n",
      "\n",
      "                                                Text  \n",
      "0  introduct project continu control deep reinfor...  \n",
      "1  clone multiag particl environ see openai origi...  \n",
      "2  alt textimageslogojpg h2 aligncent 60daysofuda...  \n",
      "5  benchmark dataset graph classif repositori con...  \n",
      "6  gpt gmlp repositori attempt crack long context...  \n"
     ]
    }
   ],
   "source": [
    "df_train = pd.read_csv('../data/readme_train.csv', sep=';')\n",
    "df_test = pd.read_csv('../data/readme_test.csv', sep=';')\n",
    "df_train = df_train.drop(df_train[df_train['Label'] == 'General'].index)\n",
    "#df_train = df_train.drop(df_train[df_train['Label'] == 'Other'].index)\n",
    "df_test = df_test.drop(df_test[df_test['Label'] == 'General'].index)\n",
    "#df_test = df_test.drop(df_test[df_test['Label'] == 'Other'].index)\n",
    "\n",
    "print(df_test['Label'].unique())\n",
    "\n",
    "Preprocessor(df_train).run()\n",
    "Preprocessor(df_test).run()\n",
    "\n",
    "#clf = OneVsRestClassifier(SVC()).fit(X, y)"
   ]
  },
  {
   "cell_type": "code",
   "execution_count": 4,
   "metadata": {},
   "outputs": [
    {
     "name": "stdout",
     "output_type": "stream",
     "text": [
      "['Computer Vision' 'Natural Language Processing' 'Sequential'\n",
      " 'Reinforcement Learning' 'Audio' 'Graphs' 'Other']\n"
     ]
    }
   ],
   "source": [
    "print(df_train['Label'].unique())"
   ]
  },
  {
   "cell_type": "code",
   "execution_count": 5,
   "metadata": {},
   "outputs": [],
   "source": [
    "x_train = df_train[TEXT]\n",
    "y_train = df_train[LABEL]\n",
    "x_test = df_test[TEXT]\n",
    "y_test = df_test[LABEL]"
   ]
  },
  {
   "cell_type": "code",
   "execution_count": 6,
   "metadata": {},
   "outputs": [
    {
     "name": "stdout",
     "output_type": "stream",
     "text": [
      "count vectorizer done\n"
     ]
    }
   ],
   "source": [
    "# CountVecotirzing\n",
    "count_vect = getCountVectorizer(df_train, TEXT)\n",
    "xtrain_count = count_vect.transform(x_train)\n",
    "xtest_count = count_vect.transform(x_test)\n",
    "#if test is undersampled:\n",
    "#xtest_count = count_vect.transform(x_test[TEXT])"
   ]
  },
  {
   "cell_type": "code",
   "execution_count": 26,
   "metadata": {},
   "outputs": [
    {
     "ename": "AttributeError",
     "evalue": "'CountVectorizer' object has no attribute 'feature_names'",
     "output_type": "error",
     "traceback": [
      "\u001b[0;31m---------------------------------------------------------------------------\u001b[0m",
      "\u001b[0;31mAttributeError\u001b[0m                            Traceback (most recent call last)",
      "\u001b[0;32m/tmp/ipykernel_49676/897828835.py\u001b[0m in \u001b[0;36m<module>\u001b[0;34m\u001b[0m\n\u001b[0;32m----> 1\u001b[0;31m \u001b[0mprint\u001b[0m\u001b[0;34m(\u001b[0m\u001b[0mcount_vect\u001b[0m\u001b[0;34m.\u001b[0m\u001b[0mfeature_names\u001b[0m\u001b[0;34m(\u001b[0m\u001b[0;34m)\u001b[0m\u001b[0;34m)\u001b[0m\u001b[0;34m\u001b[0m\u001b[0;34m\u001b[0m\u001b[0m\n\u001b[0m",
      "\u001b[0;31mAttributeError\u001b[0m: 'CountVectorizer' object has no attribute 'feature_names'"
     ]
    }
   ],
   "source": []
  },
  {
   "cell_type": "code",
   "execution_count": 7,
   "metadata": {},
   "outputs": [],
   "source": [
    "clf = OneVsRestClassifier(SVC()).fit(xtrain_count, y_train)"
   ]
  },
  {
   "cell_type": "code",
   "execution_count": 8,
   "metadata": {},
   "outputs": [],
   "source": [
    "y_pred = clf.predict(xtest_count)"
   ]
  },
  {
   "cell_type": "code",
   "execution_count": 9,
   "metadata": {},
   "outputs": [
    {
     "data": {
      "text/plain": [
       "array(['Other'], dtype='<U27')"
      ]
     },
     "execution_count": 9,
     "metadata": {},
     "output_type": "execute_result"
    }
   ],
   "source": [
    "clf.predict(count_vect.transform(['vision detects convolution vision 3d 3d 3d image image image detection image image']))"
   ]
  },
  {
   "cell_type": "code",
   "execution_count": 10,
   "metadata": {},
   "outputs": [
    {
     "name": "stdout",
     "output_type": "stream",
     "text": [
      "Accuracy: 0.7876106194690266\n",
      "Precision: 0.871226157093086 \n",
      "Recall: 0.7876106194690266 \n",
      "F1-score: 0.8180489306616471\n"
     ]
    }
   ],
   "source": [
    "y_unique = y_test.unique()\n",
    "cm = confusion_matrix(y_test, y_pred, labels=y_unique)\n",
    "cm_df = pd.DataFrame(cm, index = [y_unique], columns = [y_unique])\n",
    "print(f\"Accuracy: {accuracy_score(y_test, y_pred)}\")\n",
    "m = precision_recall_fscore_support(y_test, y_pred, average='weighted')\n",
    "precision = m[0]\n",
    "recall = m[1]\n",
    "f1score = m[2]\n",
    "print(f\"Precision: {m[0]} \\nRecall: {m[1]} \\nF1-score: {m[2]}\")"
   ]
  },
  {
   "cell_type": "code",
   "execution_count": 11,
   "metadata": {},
   "outputs": [
    {
     "data": {
      "image/png": "[encoded data removed]",
      "text/plain": [
       "<Figure size 1440x1440 with 2 Axes>"
      ]
     },
     "metadata": {
      "needs_background": "light"
     },
     "output_type": "display_data"
    }
   ],
   "source": [
    "plt.figure(figsize=(20,20))\n",
    "sns.heatmap(cm_df, annot=True, fmt='d')\n",
    "plt.title('Confusion Matrix')\n",
    "plt.ylabel('Actual Values')\n",
    "plt.xlabel('Predicted Values')\n",
    "plt.show()"
   ]
  }
 ],
 "metadata": {
  "interpreter": {
   "hash": "7d5a85906b5019a95b914e054e1849c800da3b42d1a581ee9f65c61f2a58cefa"
  },
  "kernelspec": {
   "display_name": "Python 3.9.7 ('base')",
   "language": "python",
   "name": "python3"
  },
  "language_info": {
   "codemirror_mode": {
    "name": "ipython",
    "version": 3
   },
   "file_extension": ".py",
   "mimetype": "text/x-python",
   "name": "python",
   "nbconvert_exporter": "python",
   "pygments_lexer": "ipython3",
   "version": "3.9.7"
  },
  "orig_nbformat": 4
 },
 "nbformat": 4,
 "nbformat_minor": 2
}
