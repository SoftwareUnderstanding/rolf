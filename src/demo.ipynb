{
 "cells": [
  {
   "cell_type": "code",
   "execution_count": 10,
   "metadata": {},
   "outputs": [],
   "source": [
    "import pandas as pd\n",
    "import pickle\n",
    "import sys\n",
    "from Preprocessor1 import Preprocessor\n",
    "from Vectorizing.CountVectorizer import getCountVectorizer\n",
    "from Vectorizing.TF_IDF_Vectorizer import getWordLevelVectorizer"
   ]
  },
  {
   "cell_type": "code",
   "execution_count": 12,
   "metadata": {},
   "outputs": [],
   "source": [
    "df_train = pd.read_csv('../data/readme_train.csv', sep=';')\n",
    "df_train = df_train.drop(df_train[df_train['Label'] == 'General'].index)\n",
    "#Preprocessor(df_train).run()"
   ]
  },
  {
   "cell_type": "code",
   "execution_count": 13,
   "metadata": {},
   "outputs": [],
   "source": [
    "TEXT = \"Text\"\n",
    "LABEL = \"Label\"\n",
    "x_train = df_train[TEXT]\n",
    "y_train = df_train[LABEL]"
   ]
  },
  {
   "cell_type": "code",
   "execution_count": 14,
   "metadata": {},
   "outputs": [
    {
     "data": {
      "text/plain": [
       "TfidfVectorizer(max_features=10000, token_pattern='\\\\w{1,}')"
      ]
     },
     "execution_count": 14,
     "metadata": {},
     "output_type": "execute_result"
    }
   ],
   "source": [
    "#count_vect = getWordLevelVectorizer(df_train, TEXT)\n",
    "from sklearn.feature_extraction.text import TfidfVectorizer\n",
    "count_vect = TfidfVectorizer(analyzer='word', token_pattern=r'\\w{1,}', max_features=10000)\n",
    "count_vect.fit(df_train[TEXT])"
   ]
  },
  {
   "cell_type": "code",
   "execution_count": 20,
   "metadata": {},
   "outputs": [],
   "source": [
    "audio_clf = pickle.load(open('../results/models/demo/audio_SVC_TFIDF_RandomUnder_.sav', 'rb'))\n",
    "cv_clf = pickle.load(open('../results/models/demo/computer_vision_SVC_Count_Vectors_RandomUnder_.sav', 'rb'))\n",
    "graphs_clf = pickle.load(open('../results/models/demo/graphs_SVC_TFIDF_RandomUnder_.sav', 'rb'))\n",
    "nlp_clf = pickle.load(open('../results/models/demo/natural_language_processing_LR_TFIDF_RandomUnder_.sav', 'rb'))\n",
    "rl_clf = pickle.load(open('../results/models/demo/reinforcement_learning_LR_TFIDF_RandomUnder_.sav', 'rb'))\n",
    "sw_clf = pickle.load(open('../results/models/demo/semantic_web_SVC_TFIDF_RandomUnder_.sav', 'rb'))\n",
    "seq_clf = pickle.load(open('../results/models/demo/sequential_SVC_Count_Vectors_RandomUnder_.sav', 'rb'))"
   ]
  },
  {
   "cell_type": "code",
   "execution_count": 21,
   "metadata": {},
   "outputs": [
    {
     "data": {
      "text/plain": [
       "<1x10000 sparse matrix of type '<class 'numpy.float64'>'\n",
       "\twith 1 stored elements in Compressed Sparse Row format>"
      ]
     },
     "execution_count": 21,
     "metadata": {},
     "output_type": "execute_result"
    }
   ],
   "source": [
    "x = count_vect.transform(['some text'])\n",
    "x"
   ]
  },
  {
   "cell_type": "code",
   "execution_count": 27,
   "metadata": {},
   "outputs": [
    {
     "name": "stdout",
     "output_type": "stream",
     "text": [
      "Other\n",
      "Other\n",
      "Other\n",
      "Nlp: [[0.32569851 0.67430149]]\n",
      "Other\n",
      "RL\n",
      "Semantic web\n",
      "Sequential\n"
     ]
    }
   ],
   "source": [
    "text = 'a said this is an old story'\n",
    "text = 'car detect yolo intend week 3 program assign'\n",
    "text = 'speech'\n",
    "\n",
    "\n",
    "x = audio_clf.predict(count_vect.transform([text]))\n",
    "if x == 0 : print('Audio')\n",
    "else: print('Other')\n",
    "x = cv_clf.predict(count_vect.transform([text]))\n",
    "if x == 0 : print('CV')\n",
    "else: print('Other')\n",
    "x = graphs_clf.predict(count_vect.transform([text]))\n",
    "if x == 0 : print('Graphs')\n",
    "else: print('Other')\n",
    "print(f'Nlp: {nlp_clf.predict_proba(count_vect.transform([text]))}')\n",
    "x = nlp_clf.predict(count_vect.transform([text]))\n",
    "if x == 0 : print('NLP')\n",
    "else: print('Other')\n",
    "x = rl_clf.predict(count_vect.transform([text]))\n",
    "if x == 0 : print('RL')\n",
    "else: print('Other')\n",
    "x = sw_clf.predict(count_vect.transform([text]))\n",
    "if x == 0 : print('Semantic web')\n",
    "else: print('Other')\n",
    "x = seq_clf.predict(count_vect.transform([text]))\n",
    "if x == 0 : print('Sequential')\n",
    "else: print('Other')\n"
   ]
  }
 ],
 "metadata": {
  "interpreter": {
   "hash": "7d5a85906b5019a95b914e054e1849c800da3b42d1a581ee9f65c61f2a58cefa"
  },
  "kernelspec": {
   "display_name": "Python 3.9.7 ('base')",
   "language": "python",
   "name": "python3"
  },
  "language_info": {
   "codemirror_mode": {
    "name": "ipython",
    "version": 3
   },
   "file_extension": ".py",
   "mimetype": "text/x-python",
   "name": "python",
   "nbconvert_exporter": "python",
   "pygments_lexer": "ipython3",
   "version": "3.9.7"
  },
  "orig_nbformat": 4
 },
 "nbformat": 4,
 "nbformat_minor": 2
}
