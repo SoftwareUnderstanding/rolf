{
 "cells": [
  {
   "cell_type": "code",
   "execution_count": 1,
   "metadata": {},
   "outputs": [
    {
     "name": "stderr",
     "output_type": "stream",
     "text": [
      "2022-03-15 20:01:14.149009: W tensorflow/stream_executor/platform/default/dso_loader.cc:64] Could not load dynamic library 'libcudart.so.11.0'; dlerror: libcudart.so.11.0: cannot open shared object file: No such file or directory\n",
      "2022-03-15 20:01:14.149024: I tensorflow/stream_executor/cuda/cudart_stub.cc:29] Ignore above cudart dlerror if you do not have a GPU set up on your machine.\n"
     ]
    }
   ],
   "source": [
    "import pandas as pd\n",
    "import pickle\n",
    "import sys\n",
    "from Preprocessor import Preprocessor\n",
    "from Vectorizing.CountVectorizer import getCountVectorizer\n",
    "from Vectorizing.TF_IDF_Vectorizer import getWordLevelVectorizer\n",
    "import os"
   ]
  },
  {
   "cell_type": "code",
   "execution_count": 4,
   "metadata": {},
   "outputs": [],
   "source": [
    "df_train = pd.read_csv('../data/readme_train.csv', sep=';')\n",
    "df_train = df_train.drop(df_train[df_train['Label'] == 'General'].index)\n",
    "#Preprocessor(df_train).run()"
   ]
  },
  {
   "cell_type": "code",
   "execution_count": 5,
   "metadata": {},
   "outputs": [],
   "source": [
    "TEXT = \"Text\"\n",
    "LABEL = \"Label\"\n",
    "x_train = df_train[TEXT]\n",
    "y_train = df_train[LABEL]"
   ]
  },
  {
   "cell_type": "code",
   "execution_count": 22,
   "metadata": {},
   "outputs": [],
   "source": [
    "#count_vect = getWordLevelVectorizer(df_train, TEXT)\n",
    "#from sklearn.feature_extraction.text import TfidfVectorizer\n",
    "#count_vect = TfidfVectorizer(analyzer='word', token_pattern=r'\\w{1,}', max_features=10000)\n",
    "#count_vect.fit(df_train[TEXT])"
   ]
  },
  {
   "cell_type": "code",
   "execution_count": 8,
   "metadata": {},
   "outputs": [
    {
     "name": "stdout",
     "output_type": "stream",
     "text": [
      "audio_LR_TFIDF_RandomUnder_.sav\n",
      "computer_vision_SVC_TFIDF_RandomUnder_.sav\n",
      "graphs_LR_TFIDF_RandomUnder_.sav\n",
      "natural_language_processing_LR_TFIDF_RandomUnder_.sav\n",
      "reinforcement_learning_RandomForestClassifier_TFIDF_RandomUnder_.sav\n",
      "sequential_Linear_SVC_TFIDF_RandomUnder_.sav\n"
     ]
    }
   ],
   "source": [
    "dir = '../results/models/demo/'\n",
    "models = os.listdir(dir)\n",
    "for model in models:\n",
    "    print(model)\n",
    "    if 'audio' in model:\n",
    "        audio_clf = pickle.load(open(dir+model, 'rb'))\n",
    "    if 'computer_vision' in model:\n",
    "        cv_clf = pickle.load(open(dir+model, 'rb'))\n",
    "    if 'graphs' in model:\n",
    "        graphs_clf = pickle.load(open(dir+model, 'rb'))\n",
    "    if 'natural' in model:\n",
    "        nlp_clf = pickle.load(open(dir+model, 'rb'))\n",
    "    if 'reinforcement' in model:\n",
    "        rl_clf = pickle.load(open(dir+model, 'rb'))\n",
    "    if 'sequential' in model:\n",
    "        seq_clf = pickle.load(open(dir+model, 'rb'))"
   ]
  },
  {
   "cell_type": "code",
   "execution_count": null,
   "metadata": {},
   "outputs": [],
   "source": [
    "#x = ['some text'])\n",
    "#x"
   ]
  },
  {
   "cell_type": "code",
   "execution_count": null,
   "metadata": {},
   "outputs": [
    {
     "name": "stdout",
     "output_type": "stream",
     "text": [
      "Good:  3534\n",
      "Bad:  985\n",
      "Accuracy:  0.7820314228811684\n"
     ]
    }
   ],
   "source": [
    "good = 0\n",
    "bad = 0\n",
    "for ind, row in df_train.iterrows():\n",
    "    #print(row[TEXT])\n",
    "    outs = []\n",
    "    outs.append(audio_clf.predict([row[TEXT]])[0])\n",
    "    outs.append(cv_clf.predict([row[TEXT]])[0])\n",
    "    outs.append(graphs_clf.predict([row[TEXT]])[0])\n",
    "    outs.append(nlp_clf.predict([row[TEXT]])[0])\n",
    "    outs.append(rl_clf.predict([row[TEXT]])[0])\n",
    "    outs.append(seq_clf.predict([row[TEXT]])[0])\n",
    "    labels = list(df_train[df_train['Repo'] == row['Repo']][LABEL])\n",
    "    #print(outs)\n",
    "    outs = [i for i in outs if i != 'Other']\n",
    "    #print('True labels: ', labels, ' Predicted: ', outs)\n",
    "    if labels == outs: good += 1\n",
    "    else: bad += 1\n",
    "print('Good: ', good)\n",
    "print('Bad: ', bad)\n",
    "print('Accuracy: ', good/(good+bad))"
   ]
  },
  {
   "cell_type": "code",
   "execution_count": 15,
   "metadata": {},
   "outputs": [
    {
     "name": "stdout",
     "output_type": "stream",
     "text": [
      "Audio:  ['Audio' 'Other' 'Other' 'Other' 'Other' 'Other']\n",
      "CV:  ['Other' 'Computer Vision' 'Other' 'Other' 'Computer Vision' 'Other']\n",
      "Graphs: ['Other' 'Other' 'Graphs' 'Other' 'Other' 'Other']\n",
      "NLP: ['Other' 'Other' 'Other' 'Natural Language Processing' 'Other' 'Other']\n",
      "RL: ['Other' 'Other' 'Other' 'Other' 'Other' 'Reinforcement Learning']\n",
      "Seq: ['Other' 'Other' 'Other' 'Other' 'Other' 'Other']\n"
     ]
    }
   ],
   "source": [
    "#text = 'a said this is an old story'\n",
    "#text = 'car detect yolo intend week 3 program assign'\n",
    "text = ['speech vioce speech', \n",
    "        'image', \n",
    "        'graph', \n",
    "        'pytorch sequence',\n",
    "        '',\n",
    "        'agent agent reinforcement policy environment']\n",
    "\n",
    "x = audio_clf.predict(text)\n",
    "#print(f'Audio: {audio_clf.predict_proba(text)}')\n",
    "print('Audio: ', x)\n",
    "x = cv_clf.predict(text)\n",
    "#print(f'CV: {cv_clf.predict_proba(text)}')\n",
    "print('CV: ', x)\n",
    "x = graphs_clf.predict(text)\n",
    "print('Graphs:', x)\n",
    "#print(f'Graphs: {graphs_clf.predict_proba(text)}')\n",
    "x = nlp_clf.predict(text)\n",
    "print('NLP:', x)\n",
    "#print(f'NLP: {nlp_clf.predict_proba(text)}')\n",
    "x = rl_clf.predict(text)\n",
    "print('RL:', x)\n",
    "#print(f'RL: {rl_clf.predict_proba(text)}')\n",
    "x = seq_clf.predict(text)\n",
    "print('Seq:', x)\n",
    "#print(f'Seq: {seq_clf.predict_proba(text)}')\n"
   ]
  }
 ],
 "metadata": {
  "interpreter": {
   "hash": "7d5a85906b5019a95b914e054e1849c800da3b42d1a581ee9f65c61f2a58cefa"
  },
  "kernelspec": {
   "display_name": "Python 3.9.7 ('base')",
   "language": "python",
   "name": "python3"
  },
  "language_info": {
   "codemirror_mode": {
    "name": "ipython",
    "version": 3
   },
   "file_extension": ".py",
   "mimetype": "text/x-python",
   "name": "python",
   "nbconvert_exporter": "python",
   "pygments_lexer": "ipython3",
   "version": "3.9.7"
  },
  "orig_nbformat": 4
 },
 "nbformat": 4,
 "nbformat_minor": 2
}
