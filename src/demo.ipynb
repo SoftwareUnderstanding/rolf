{
 "cells": [
  {
   "cell_type": "code",
   "execution_count": 22,
   "metadata": {},
   "outputs": [],
   "source": [
    "import pandas as pd\n",
    "import pickle\n",
    "import sys\n",
    "from Preprocessor import Preprocessor\n",
    "from Vectorizing.CountVectorizer import getCountVectorizer\n",
    "from Vectorizing.TF_IDF_Vectorizer import getWordLevelVectorizer\n",
    "import os"
   ]
  },
  {
   "cell_type": "code",
   "execution_count": 23,
   "metadata": {},
   "outputs": [],
   "source": [
    "df_train = pd.read_csv('../data/readme_train.csv', sep=';')\n",
    "df_train = df_train.drop(df_train[df_train['Label'] == 'General'].index)\n",
    "df_train = df_train.drop(df_train[df_train['Text'] == ''].index)\n",
    "#Preprocessor(df_train).run()"
   ]
  },
  {
   "cell_type": "code",
   "execution_count": 24,
   "metadata": {},
   "outputs": [],
   "source": [
    "TEXT = \"Text\"\n",
    "LABEL = \"Label\"\n",
    "x_train = df_train[TEXT].astype('U')\n",
    "y_train = df_train[LABEL]"
   ]
  },
  {
   "cell_type": "code",
   "execution_count": 25,
   "metadata": {},
   "outputs": [],
   "source": [
    "#count_vect = getWordLevelVectorizer(df_train, TEXT)\n",
    "#from sklearn.feature_extraction.text import TfidfVectorizer\n",
    "#count_vect = TfidfVectorizer(analyzer='word', token_pattern=r'\\w{1,}', max_features=10000)\n",
    "#count_vect.fit(df_train[TEXT])"
   ]
  },
  {
   "cell_type": "code",
   "execution_count": 26,
   "metadata": {},
   "outputs": [
    {
     "name": "stdout",
     "output_type": "stream",
     "text": [
      "audio_Linear_SVC_TFIDF_RandomUnder_.sav\n",
      "computer_vision_Linear_SVC_TFIDF_RandomUnder_.sav\n",
      "graphs_Linear_SVC_TFIDF_RandomUnder_.sav\n",
      "natural_language_processing_Linear_SVC_TFIDF_RandomUnder_.sav\n",
      "reinforcement_learning_Linear_SVC_TFIDF_RandomUnder_.sav\n",
      "sequential_Linear_SVC_TFIDF_RandomUnder_.sav\n"
     ]
    }
   ],
   "source": [
    "dir = '../results/models/demo1/'\n",
    "models = os.listdir(dir)\n",
    "for model in models:\n",
    "    print(model)\n",
    "    if 'audio' in model:\n",
    "        audio_clf = pickle.load(open(dir+model, 'rb'))\n",
    "    if 'computer_vision' in model:\n",
    "        cv_clf = pickle.load(open(dir+model, 'rb'))\n",
    "    if 'graphs' in model:\n",
    "        graphs_clf = pickle.load(open(dir+model, 'rb'))\n",
    "    if 'natural' in model:\n",
    "        nlp_clf = pickle.load(open(dir+model, 'rb'))\n",
    "    if 'reinforcement' in model:\n",
    "        rl_clf = pickle.load(open(dir+model, 'rb'))\n",
    "    if 'sequential' in model:\n",
    "        seq_clf = pickle.load(open(dir+model, 'rb'))"
   ]
  },
  {
   "cell_type": "code",
   "execution_count": 27,
   "metadata": {},
   "outputs": [],
   "source": [
    "#x = ['some text'])\n",
    "#x"
   ]
  },
  {
   "cell_type": "code",
   "execution_count": 28,
   "metadata": {},
   "outputs": [
    {
     "name": "stdout",
     "output_type": "stream",
     "text": [
      "Good:  3653\n",
      "Bad:  721\n",
      "Accuracy:  0.8351623228166438\n"
     ]
    }
   ],
   "source": [
    "threshold = 0.5\n",
    "\n",
    "good = 0\n",
    "bad = 0\n",
    "df_train[TEXT] = df_train[TEXT].astype('U')\n",
    "for ind, row in df_train.iterrows():\n",
    "    text = row[TEXT]\n",
    "    #print([row[TEXT]])\n",
    "    #print(row[TEXT])\n",
    "    if row[TEXT]:\n",
    "        pass\n",
    "    outs = []\n",
    "    try:\n",
    "        outs.append(audio_clf.predict([row[TEXT]])[0])\n",
    "    except:\n",
    "        print(row[TEXT])\n",
    "    [proba] = cv_clf.predict_proba([text])\n",
    "    if max(proba) < threshold: outs.append('Other')    \n",
    "    else: outs.append(cv_clf.predict([text])[0])\n",
    "    [proba] = graphs_clf.predict_proba([text])\n",
    "    if max(proba) < threshold: outs.append('Other') \n",
    "    else: outs.append(graphs_clf.predict([text])[0])\n",
    "    [proba] = nlp_clf.predict_proba([text])\n",
    "    if max(proba) < threshold: outs.append('Other') \n",
    "    else: outs.append(nlp_clf.predict([text])[0])\n",
    "    [proba] = rl_clf.predict_proba([text])\n",
    "    if max(proba) < threshold: outs.append('Other') \n",
    "    else: outs.append(rl_clf.predict([text])[0])\n",
    "    [proba] = seq_clf.predict_proba([text])\n",
    "    if max(proba) < threshold: outs.append('Other') \n",
    "    else: outs.append(seq_clf.predict([text])[0])\n",
    "    labels = list(df_train[df_train['Repo'] == row['Repo']][LABEL])\n",
    "    #print(outs)\n",
    "    outs = [i for i in outs if i != 'Other']\n",
    "    #print('True labels: ', labels, ' Predicted: ', outs)\n",
    "    if labels == outs: good += 1\n",
    "    else: bad += 1\n",
    "print('Good: ', good)\n",
    "print('Bad: ', bad)\n",
    "print('Accuracy: ', good/(good+bad))"
   ]
  },
  {
   "cell_type": "code",
   "execution_count": 61,
   "metadata": {},
   "outputs": [
    {
     "name": "stdout",
     "output_type": "stream",
     "text": [
      "Audio:  ['Other' 'Other' 'Other' 'Other']\n",
      "CV:  ['Other' 'Computer Vision' 'Other' 'Other']\n",
      "Graphs: ['Other' 'Other' 'Other' 'Other']\n",
      "NLP: ['Other' 'Other' 'Other' 'Natural Language Processing']\n",
      "RL: ['Other' 'Other' 'Other' 'Other']\n",
      "Seq: ['Other' 'Other' 'Other' 'Other']\n"
     ]
    }
   ],
   "source": [
    "text = ['a said this is an old story']\n",
    "text += ['car detect yolo intend week 3 program assign']\n",
    "text += ['']\n",
    "text += ['text, ']\n",
    "\n",
    "x = audio_clf.predict(text)\n",
    "#print(f'Audio: {audio_clf.predict_proba(text)}')\n",
    "print('Audio: ', x)\n",
    "x = cv_clf.predict(text)\n",
    "#print(f'CV: {cv_clf.predict_proba(text)}')\n",
    "print('CV: ', x)\n",
    "x = graphs_clf.predict(text)\n",
    "print('Graphs:', x)\n",
    "#print(f'Graphs: {graphs_clf.predict_proba(text)}')\n",
    "x = nlp_clf.predict(text)\n",
    "print('NLP:', x)\n",
    "#print(f'NLP: {nlp_clf.predict_proba(text)}')\n",
    "x = rl_clf.predict(text)\n",
    "print('RL:', x)\n",
    "#print(f'RL: {rl_clf.predict_proba(text)}')\n",
    "x = seq_clf.predict(text)\n",
    "print('Seq:', x)\n",
    "#print(f'Seq: {seq_clf.predict_proba(text)}')\n"
   ]
  }
 ],
 "metadata": {
  "interpreter": {
   "hash": "7d5a85906b5019a95b914e054e1849c800da3b42d1a581ee9f65c61f2a58cefa"
  },
  "kernelspec": {
   "display_name": "Python 3.9.7 ('base')",
   "language": "python",
   "name": "python3"
  },
  "language_info": {
   "codemirror_mode": {
    "name": "ipython",
    "version": 3
   },
   "file_extension": ".py",
   "mimetype": "text/x-python",
   "name": "python",
   "nbconvert_exporter": "python",
   "pygments_lexer": "ipython3",
   "version": "3.9.7"
  },
  "orig_nbformat": 4
 },
 "nbformat": 4,
 "nbformat_minor": 2
}
