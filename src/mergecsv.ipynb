{
 "cells": [
  {
   "cell_type": "code",
   "execution_count": 1,
   "metadata": {},
   "outputs": [],
   "source": [
    "import pandas as pd"
   ]
  },
  {
   "cell_type": "code",
   "execution_count": 6,
   "metadata": {},
   "outputs": [
    {
     "name": "stdout",
     "output_type": "stream",
     "text": [
      "(20662, 3)\n",
      "(6847, 3)\n",
      "(1360, 3)\n"
     ]
    }
   ],
   "source": [
    "df1 = pd.read_csv('../data/abstracts_train.csv', sep=';')\n",
    "print(df1.shape)\n",
    "df2 = pd.read_csv('../data/somef_data_train.csv', sep=';')\n",
    "print(df2.shape)\n",
    "df3 = pd.read_csv('../data/somef_data_description_train.csv', sep=';')\n",
    "print(df3.shape)"
   ]
  },
  {
   "cell_type": "code",
   "execution_count": 7,
   "metadata": {},
   "outputs": [
    {
     "name": "stdout",
     "output_type": "stream",
     "text": [
      "(27509, 3)\n"
     ]
    }
   ],
   "source": [
    "merged = pd.concat([df1, df2])\n",
    "print(merged.shape)\n",
    "merged.to_csv('../data/merged_abstracts_train_somef_data_train.csv', sep=';', index=False)"
   ]
  },
  {
   "cell_type": "code",
   "execution_count": 8,
   "metadata": {},
   "outputs": [
    {
     "name": "stdout",
     "output_type": "stream",
     "text": [
      "(8207, 3)\n"
     ]
    }
   ],
   "source": [
    "merged = pd.concat([df2, df3])\n",
    "print(merged.shape)\n",
    "merged.to_csv('../data/merged_somef_data_train_somef_data_description_train.csv', sep=';', index=False)"
   ]
  },
  {
   "cell_type": "code",
   "execution_count": 9,
   "metadata": {},
   "outputs": [
    {
     "name": "stdout",
     "output_type": "stream",
     "text": [
      "(22022, 3)\n"
     ]
    }
   ],
   "source": [
    "merged = pd.concat([df1, df3])\n",
    "print(merged.shape)\n",
    "merged.to_csv('../data/merged_abstracts_train_somef_data_description_train.csv', sep=';', index=False)"
   ]
  },
  {
   "cell_type": "code",
   "execution_count": 10,
   "metadata": {},
   "outputs": [
    {
     "name": "stdout",
     "output_type": "stream",
     "text": [
      "(28869, 3)\n"
     ]
    }
   ],
   "source": [
    "merged = pd.concat([df1, df2, df3])\n",
    "print(merged.shape)\n",
    "merged.to_csv('../data/merged_abstracts_train_somef_data_train_somef_data_description_train.csv', sep=';', index=False)"
   ]
  },
  {
   "cell_type": "code",
   "execution_count": 11,
   "metadata": {},
   "outputs": [
    {
     "name": "stdout",
     "output_type": "stream",
     "text": [
      "(25828, 3)\n",
      "(8559, 3)\n",
      "(1700, 3)\n"
     ]
    }
   ],
   "source": [
    "df1 = pd.read_csv('../data/abstracts.csv', sep=';')\n",
    "print(df1.shape)\n",
    "df2 = pd.read_csv('../data/somef_data.csv', sep=';')\n",
    "print(df2.shape)\n",
    "df3 = pd.read_csv('../data/somef_data_description.csv', sep=';')\n",
    "print(df3.shape)"
   ]
  },
  {
   "cell_type": "code",
   "execution_count": 12,
   "metadata": {},
   "outputs": [
    {
     "name": "stdout",
     "output_type": "stream",
     "text": [
      "(34387, 3)\n"
     ]
    }
   ],
   "source": [
    "merged = pd.concat([df1, df2])\n",
    "print(merged.shape)\n",
    "merged.to_csv('../data/merged_abstracts_somef_data.csv', sep=';', index=False)"
   ]
  },
  {
   "cell_type": "code",
   "execution_count": 13,
   "metadata": {},
   "outputs": [
    {
     "name": "stdout",
     "output_type": "stream",
     "text": [
      "(10259, 3)\n"
     ]
    }
   ],
   "source": [
    "merged = pd.concat([df2, df3])\n",
    "print(merged.shape)\n",
    "merged.to_csv('../data/merged_somef_data_somef_data_description.csv', sep=';', index=False)"
   ]
  },
  {
   "cell_type": "code",
   "execution_count": 14,
   "metadata": {},
   "outputs": [
    {
     "name": "stdout",
     "output_type": "stream",
     "text": [
      "(27528, 3)\n"
     ]
    }
   ],
   "source": [
    "merged = pd.concat([df1, df3])\n",
    "print(merged.shape)\n",
    "merged.to_csv('../data/merged_abstracts_somef_data_description.csv', sep=';', index=False)"
   ]
  },
  {
   "cell_type": "code",
   "execution_count": 16,
   "metadata": {},
   "outputs": [
    {
     "name": "stdout",
     "output_type": "stream",
     "text": [
      "(36087, 3)\n"
     ]
    }
   ],
   "source": [
    "merged = pd.concat([df1, df2, df3])\n",
    "print(merged.shape)\n",
    "merged.to_csv('../data/merged_abstracts_somef_data_somef_data_description.csv', sep=';', index=False)"
   ]
  },
  {
   "cell_type": "code",
   "execution_count": 2,
   "metadata": {},
   "outputs": [
    {
     "name": "stdout",
     "output_type": "stream",
     "text": [
      "(25828, 3)\n",
      "(6847, 3)\n",
      "(6847, 3)\n"
     ]
    }
   ],
   "source": [
    "df1 = pd.read_csv('../data/abstracts.csv', sep=';')\n",
    "print(df1.shape)\n",
    "df2 = pd.read_csv('../data/somef_data_train.csv', sep=';')\n",
    "print(df2.shape)\n",
    "df3 = pd.read_csv('../data/readme_train.csv', sep=';')\n",
    "print(df3.shape)"
   ]
  },
  {
   "cell_type": "code",
   "execution_count": 3,
   "metadata": {},
   "outputs": [
    {
     "name": "stdout",
     "output_type": "stream",
     "text": [
      "(39522, 3)\n"
     ]
    }
   ],
   "source": [
    "merged = pd.concat([df1, df2, df3])\n",
    "print(merged.shape)\n",
    "merged.to_csv('../data/merged_abstracts_somef_data_train_readme_train.csv', sep=';', index=False)"
   ]
  }
 ],
 "metadata": {
  "interpreter": {
   "hash": "7d5a85906b5019a95b914e054e1849c800da3b42d1a581ee9f65c61f2a58cefa"
  },
  "kernelspec": {
   "display_name": "Python 3.9.7 64-bit ('base': conda)",
   "language": "python",
   "name": "python3"
  },
  "language_info": {
   "codemirror_mode": {
    "name": "ipython",
    "version": 3
   },
   "file_extension": ".py",
   "mimetype": "text/x-python",
   "name": "python",
   "nbconvert_exporter": "python",
   "pygments_lexer": "ipython3",
   "version": "3.9.7"
  },
  "orig_nbformat": 4
 },
 "nbformat": 4,
 "nbformat_minor": 2
}
