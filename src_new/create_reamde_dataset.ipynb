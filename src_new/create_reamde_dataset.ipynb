{
 "cells": [
  {
   "cell_type": "code",
   "execution_count": 7,
   "metadata": {},
   "outputs": [],
   "source": [
    "import csv\n",
    "import pandas as pd\n",
    "from Preprocessor import Preprocessor"
   ]
  },
  {
   "cell_type": "code",
   "execution_count": 9,
   "metadata": {},
   "outputs": [],
   "source": [
    "reader = csv.DictReader(open('../data/somef_data.csv'), delimiter=';')\n",
    "data = {key: [] for key in reader.fieldnames}\n",
    "for row in reader:\n",
    "\tfilename = '_'.join(row['Repo'].split('/')[-2:]) + '.txt'\n",
    "\twith open('../data/somef_dataset/papers_with_code/' + filename) as f:\n",
    "\t\tdata['Text'].append('\"' + ' '.join(f.readlines()) + '\"')\n",
    "\tdata['Repo'].append(row['Repo'])\n",
    "\tdata['Label'].append(row['Label'])\n",
    "\n",
    "df = pd.DataFrame(data)\n",
    "Preprocessor(df).run()\n",
    "df.drop_duplicates(inplace=True)\n",
    "df.to_csv(\"../data/readme.csv\", sep=';', index=False)"
   ]
  },
  {
   "cell_type": "code",
   "execution_count": 12,
   "metadata": {},
   "outputs": [],
   "source": [
    "df.drop('Text', axis=1, inplace=True)\n",
    "df.to_csv(\"../data/readme1.csv\", sep=';', index=False)\n"
   ]
  },
  {
   "cell_type": "code",
   "execution_count": null,
   "metadata": {},
   "outputs": [],
   "source": []
  }
 ],
 "metadata": {
  "interpreter": {
   "hash": "7d5a85906b5019a95b914e054e1849c800da3b42d1a581ee9f65c61f2a58cefa"
  },
  "kernelspec": {
   "display_name": "Python 3.9.7 ('base')",
   "language": "python",
   "name": "python3"
  },
  "language_info": {
   "codemirror_mode": {
    "name": "ipython",
    "version": 3
   },
   "file_extension": ".py",
   "mimetype": "text/x-python",
   "name": "python",
   "nbconvert_exporter": "python",
   "pygments_lexer": "ipython3",
   "version": "3.9.7"
  },
  "orig_nbformat": 4
 },
 "nbformat": 4,
 "nbformat_minor": 2
}
